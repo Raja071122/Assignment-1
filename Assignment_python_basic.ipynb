{
  "nbformat": 4,
  "nbformat_minor": 0,
  "metadata": {
    "colab": {
      "provenance": []
    },
    "kernelspec": {
      "name": "python3",
      "display_name": "Python 3"
    },
    "language_info": {
      "name": "python"
    }
  },
  "cells": [
    {
      "cell_type": "markdown",
      "source": [
        "# **PYTHON BASIC QUESTIONS**"
      ],
      "metadata": {
        "id": "qRHajd0QgklQ"
      }
    },
    {
      "cell_type": "markdown",
      "source": [
        "Q1.What is Python, and why is it popular?\n",
        "\n",
        " -> Python is a high-level,interpreted programming language known for its simple and redable syntax.\n",
        " Python is popular because its easy to learn and use.\n",
        "\n",
        "Q2.What is an interpreter in Python?\n",
        "\n",
        " -> A Python interpreter is a program that reads and executes Python code, translating your high-level instructions into machine actions.\n",
        "\n",
        "Q3.What are pre-defined keywords in Python?\n",
        "\n",
        " -> A keyword in Python is a pre-defined, reserved word and cannot be used as names for variables.\n",
        "\n",
        "Q4.Can keywords be used as variable names?\n",
        "\n",
        " -> No\n",
        "\n",
        "Q5.What is mutability in Python?\n",
        "\n",
        " -> Mutability in Python means we can changed values after it's created.\n",
        "\n",
        "Q6.Why are lists mutable, but tuples are immutable?\n",
        "\n",
        " -> Lists are mutable because we can do changes in lists but in tuples we can not so thats why tuple are immutable.\n",
        "\n",
        "Q7.What is the difference between “==” and “is” operators in Python?\n",
        "\n",
        " -> (==) is use to compare values where as (is) is use when you want to check if two things are literally the same object.\n",
        "\n",
        "Q8.What are logical operators in Python?\n",
        "\n",
        " -> Logical operators in python are AND,OR,NOT.\n",
        "\n",
        "Q9.What is type casting in Python?\n",
        "\n",
        " -> Type casting in Python refers to the process of converting a variable from one data type to another.\n",
        "\n",
        "Q10.What is the difference between implicit and explicit type casting?\n",
        "\n",
        " -> Implicit typecasting:Implicit typecasting is convert the datatype into another datatype automatically.\n",
        "  Explicit typecasting:Explicit typecasting is user convert the datatype into another required datatype.\n",
        "\n",
        "Q11.What is the purpose of conditional statements in Python?\n",
        "\n",
        " -> Conditional statements in PythoN such as if, elif, and else, are mainly used to make decisions and execute specific blocks of code based on certain conditions.\n",
        "\n",
        "Q12.How does the elif statement work?\n",
        "\n",
        " -> elif is short for “else if”. It lets you check additional conditions.\n",
        "\n",
        "Q13.What is the difference between for and while loops?\n",
        "\n",
        " -> For loop: for loop is use like number of iteration taken by user input\n",
        " value.\n",
        "  While loop: while loop is use like number of iteration taken by based on condition.\n",
        "\n",
        "Q14.Describe a scenario where a while loop is more suitable than a for loop.\n",
        "\n",
        " -> A while loop is more suitable than a for loop when you don't know in advance how many times you'll need to repeat something."
      ],
      "metadata": {
        "id": "OuBQSoPCg8kw"
      }
    },
    {
      "cell_type": "markdown",
      "source": [
        "# **Practical Questions**"
      ],
      "metadata": {
        "id": "skw0wuzGg4LR"
      }
    },
    {
      "cell_type": "code",
      "source": [
        "#Q1.Write a Python program to print \"Hello, World!\"\n",
        "print(\"Hello, World!\")"
      ],
      "metadata": {
        "id": "p7LN2UfciRQD",
        "colab": {
          "base_uri": "https://localhost:8080/"
        },
        "outputId": "ca7f9616-e712-455f-e334-3ab94152d7d3"
      },
      "execution_count": null,
      "outputs": [
        {
          "output_type": "stream",
          "name": "stdout",
          "text": [
            "Hello, World!\n"
          ]
        }
      ]
    },
    {
      "cell_type": "code",
      "source": [
        "#Q2. Write a Python program that displays your name and age.\n",
        "name = input(\"Enter your name: \")\n",
        "age = int(input(\"Enter your age: \"))\n",
        "print(\"Name:\", name)\n",
        "print(\"Age:\", age)"
      ],
      "metadata": {
        "id": "qlTVEkH5jENL",
        "colab": {
          "base_uri": "https://localhost:8080/"
        },
        "outputId": "25855588-71c3-44b1-f1f9-0767c31ce57a"
      },
      "execution_count": null,
      "outputs": [
        {
          "output_type": "stream",
          "name": "stdout",
          "text": [
            "Enter your name: Raja kumar singh\n",
            "Enter your age: 23\n",
            "Name: Raja kumar singh\n",
            "Age: 23\n"
          ]
        }
      ]
    },
    {
      "cell_type": "code",
      "source": [
        "#Q3. Write code to print all the pre-defined keywords in Python using the keyword library\n",
        "import keyword\n",
        "print(keyword.kwlist)"
      ],
      "metadata": {
        "id": "MdHKwFXFjd16",
        "colab": {
          "base_uri": "https://localhost:8080/"
        },
        "outputId": "2f4de0b5-3a5d-4e1f-e05f-69aa768eb9d5"
      },
      "execution_count": null,
      "outputs": [
        {
          "output_type": "stream",
          "name": "stdout",
          "text": [
            "['False', 'None', 'True', 'and', 'as', 'assert', 'async', 'await', 'break', 'class', 'continue', 'def', 'del', 'elif', 'else', 'except', 'finally', 'for', 'from', 'global', 'if', 'import', 'in', 'is', 'lambda', 'nonlocal', 'not', 'or', 'pass', 'raise', 'return', 'try', 'while', 'with', 'yield']\n"
          ]
        }
      ]
    },
    {
      "cell_type": "code",
      "source": [
        "#Q4. Write a program that checks if a given word is a Python keyword.\n",
        "\n",
        "import keyword\n",
        "word = input(\"Enter your word \")\n",
        "if word in keyword.kwlist:\n",
        "  print( \"Your given word is a keyword\" )\n",
        "else:\n",
        "    print( \"Your given word is not a keyword\")"
      ],
      "metadata": {
        "id": "1BkTclcNtgVn",
        "colab": {
          "base_uri": "https://localhost:8080/"
        },
        "outputId": "6141d15f-dffb-4329-c176-f493eefaf829"
      },
      "execution_count": null,
      "outputs": [
        {
          "output_type": "stream",
          "name": "stdout",
          "text": [
            "Enter your word Bullet\n",
            "Your given word is not a keyword\n"
          ]
        }
      ]
    },
    {
      "cell_type": "code",
      "source": [
        "'''\n",
        "#Q5. Create a list and tuple in Python, and demonstrate how attempting to change\n",
        "    an element works differently for each\n",
        "'''\n",
        "My_list = [\"Apple\",\"Banana\",\"Orange\",\"Papaya\"]\n",
        "print(\"This is orignal list: \", My_list)\n",
        "My_list[1] = \"Litchi\"      #attempting to change an element in list\n",
        "print(\"This is changed list: \", My_list)\n",
        "print () #using for one line space\n",
        "My_tuple = (\"Apple\",\"Banana\",\"Orange\",\"Papaya\")\n",
        "print(\"This is my orignal tuple: \", My_tuple)\n",
        "My_tuple[3] = \"Litchi\"     #attempting to change an element in tuple\n",
        "print(\"This is my changed tuple: \")\n",
        "'''\n",
        " It will show an error while changing tuple because tuple is immutable and in\n",
        " other hand list will be changed because its a mutable .\n",
        "'''\n"
      ],
      "metadata": {
        "id": "Jye_1xIJtS0K",
        "colab": {
          "base_uri": "https://localhost:8080/",
          "height": 280
        },
        "outputId": "425a93e4-eefb-4103-de93-2233fe79ce95"
      },
      "execution_count": null,
      "outputs": [
        {
          "output_type": "stream",
          "name": "stdout",
          "text": [
            "This is orignal list:  ['Apple', 'Banana', 'Orange', 'Papaya']\n",
            "This is changed list:  ['Apple', 'Litchi', 'Orange', 'Papaya']\n",
            "\n",
            "This is my orignal tuple:  ('Apple', 'Banana', 'Orange', 'Papaya')\n"
          ]
        },
        {
          "output_type": "error",
          "ename": "TypeError",
          "evalue": "'tuple' object does not support item assignment",
          "traceback": [
            "\u001b[0;31m---------------------------------------------------------------------------\u001b[0m",
            "\u001b[0;31mTypeError\u001b[0m                                 Traceback (most recent call last)",
            "\u001b[0;32m/tmp/ipython-input-19-3056079015.py\u001b[0m in \u001b[0;36m<cell line: 0>\u001b[0;34m()\u001b[0m\n\u001b[1;32m     10\u001b[0m \u001b[0mMy_tuple\u001b[0m \u001b[0;34m=\u001b[0m \u001b[0;34m(\u001b[0m\u001b[0;34m\"Apple\"\u001b[0m\u001b[0;34m,\u001b[0m\u001b[0;34m\"Banana\"\u001b[0m\u001b[0;34m,\u001b[0m\u001b[0;34m\"Orange\"\u001b[0m\u001b[0;34m,\u001b[0m\u001b[0;34m\"Papaya\"\u001b[0m\u001b[0;34m)\u001b[0m\u001b[0;34m\u001b[0m\u001b[0;34m\u001b[0m\u001b[0m\n\u001b[1;32m     11\u001b[0m \u001b[0mprint\u001b[0m\u001b[0;34m(\u001b[0m\u001b[0;34m\"This is my orignal tuple: \"\u001b[0m\u001b[0;34m,\u001b[0m \u001b[0mMy_tuple\u001b[0m\u001b[0;34m)\u001b[0m\u001b[0;34m\u001b[0m\u001b[0;34m\u001b[0m\u001b[0m\n\u001b[0;32m---> 12\u001b[0;31m \u001b[0mMy_tuple\u001b[0m\u001b[0;34m[\u001b[0m\u001b[0;36m3\u001b[0m\u001b[0;34m]\u001b[0m \u001b[0;34m=\u001b[0m \u001b[0;34m\"Litchi\"\u001b[0m     \u001b[0;31m#attempting to change an element in tuple\u001b[0m\u001b[0;34m\u001b[0m\u001b[0;34m\u001b[0m\u001b[0m\n\u001b[0m\u001b[1;32m     13\u001b[0m \u001b[0mprint\u001b[0m\u001b[0;34m(\u001b[0m\u001b[0;34m\"This is my changed tuple: \"\u001b[0m\u001b[0;34m)\u001b[0m\u001b[0;34m\u001b[0m\u001b[0;34m\u001b[0m\u001b[0m\n\u001b[1;32m     14\u001b[0m '''\n",
            "\u001b[0;31mTypeError\u001b[0m: 'tuple' object does not support item assignment"
          ]
        }
      ]
    },
    {
      "cell_type": "code",
      "source": [
        "'''\n",
        "#Q6. Write a function to demonstrate the behavior of mutable and immutable arguments.\n",
        "'''\n",
        "\n",
        "#mutable arguments ( taking example of list )\n",
        "My_list = [ 1,2,3,4,\"Karan\"]\n",
        "print (\"This is my orignal list: \",My_list)\n",
        "My_list [4] = 5    # Try to do change in my list\n",
        "print (\"This is My new changed list : \",My_list)  #Here it will print my changed list\n",
        "'''\n",
        "#In python the immutable are of built-in data type and it cannot be modified after it is created.\n",
        "'''\n",
        "#immutable arguments ( taking example of tuple)\n",
        "My_tuple = (1,2,3,4,\"Karan\")\n",
        "print (\"This is my orignal Tuple: \",My_tuple)\n",
        "My_tuple [4] = 5    # Try to do change in my list\n",
        "print (\"This is My new changed Tuple : \",My_tuple)  #Here it will show error because tuple is immutable and its not be changed or modified\n",
        "\"\"\"\n",
        "So basically we can say that mutable are changable and immutable are not\n",
        "i have taken example of list and tuple .\n",
        "\"\"\""
      ],
      "metadata": {
        "id": "OMeeRcqkuwNX",
        "colab": {
          "base_uri": "https://localhost:8080/",
          "height": 263
        },
        "outputId": "e2a6712a-763e-4bcc-c941-d10342e593f1"
      },
      "execution_count": null,
      "outputs": [
        {
          "output_type": "stream",
          "name": "stdout",
          "text": [
            "This is my orignal list:  [1, 2, 3, 4, 'Karan']\n",
            "This is My new changed list :  [1, 2, 3, 4, 5]\n",
            "This is my orignal Tuple:  (1, 2, 3, 4, 'Karan')\n"
          ]
        },
        {
          "output_type": "error",
          "ename": "TypeError",
          "evalue": "'tuple' object does not support item assignment",
          "traceback": [
            "\u001b[0;31m---------------------------------------------------------------------------\u001b[0m",
            "\u001b[0;31mTypeError\u001b[0m                                 Traceback (most recent call last)",
            "\u001b[0;32m/tmp/ipython-input-37-2666457717.py\u001b[0m in \u001b[0;36m<cell line: 0>\u001b[0;34m()\u001b[0m\n\u001b[1;32m     14\u001b[0m \u001b[0mMy_tuple\u001b[0m \u001b[0;34m=\u001b[0m \u001b[0;34m(\u001b[0m\u001b[0;36m1\u001b[0m\u001b[0;34m,\u001b[0m\u001b[0;36m2\u001b[0m\u001b[0;34m,\u001b[0m\u001b[0;36m3\u001b[0m\u001b[0;34m,\u001b[0m\u001b[0;36m4\u001b[0m\u001b[0;34m,\u001b[0m\u001b[0;34m\"Karan\"\u001b[0m\u001b[0;34m)\u001b[0m\u001b[0;34m\u001b[0m\u001b[0;34m\u001b[0m\u001b[0m\n\u001b[1;32m     15\u001b[0m \u001b[0mprint\u001b[0m \u001b[0;34m(\u001b[0m\u001b[0;34m\"This is my orignal Tuple: \"\u001b[0m\u001b[0;34m,\u001b[0m\u001b[0mMy_tuple\u001b[0m\u001b[0;34m)\u001b[0m\u001b[0;34m\u001b[0m\u001b[0;34m\u001b[0m\u001b[0m\n\u001b[0;32m---> 16\u001b[0;31m \u001b[0mMy_tuple\u001b[0m \u001b[0;34m[\u001b[0m\u001b[0;36m4\u001b[0m\u001b[0;34m]\u001b[0m \u001b[0;34m=\u001b[0m \u001b[0;36m5\u001b[0m    \u001b[0;31m# Try to do change in my list\u001b[0m\u001b[0;34m\u001b[0m\u001b[0;34m\u001b[0m\u001b[0m\n\u001b[0m\u001b[1;32m     17\u001b[0m \u001b[0mprint\u001b[0m \u001b[0;34m(\u001b[0m\u001b[0;34m\"This is My new changed Tuple : \"\u001b[0m\u001b[0;34m,\u001b[0m\u001b[0mMy_tuple\u001b[0m\u001b[0;34m)\u001b[0m  \u001b[0;31m#Here it will show error because tuple is immutable and its not be changed or modified\u001b[0m\u001b[0;34m\u001b[0m\u001b[0;34m\u001b[0m\u001b[0m\n\u001b[1;32m     18\u001b[0m \"\"\"\n",
            "\u001b[0;31mTypeError\u001b[0m: 'tuple' object does not support item assignment"
          ]
        }
      ]
    },
    {
      "cell_type": "code",
      "source": [
        " #Q7. Write a program that performs basic arithmetic operations on two user-input numbers.\n",
        " X= int(input(\"Enter first number \"))\n",
        " Y= int(input(\"Enter second number \"))\n",
        " print ( \"Sum of X and Y= \",X+Y ) #Here we used arithmetic operation on two user input numbers"
      ],
      "metadata": {
        "id": "jSPpNuN9yhFV",
        "colab": {
          "base_uri": "https://localhost:8080/"
        },
        "outputId": "5202e6ec-c801-42c7-e534-735003965a00"
      },
      "execution_count": null,
      "outputs": [
        {
          "output_type": "stream",
          "name": "stdout",
          "text": [
            "Enter first number 30\n",
            "Enter second number 20\n",
            "Sum of X and Y=  50\n"
          ]
        }
      ]
    },
    {
      "cell_type": "code",
      "source": [
        "#Q8. Write a program to demonstrate the use of logical operators.\n",
        "a = 1\n",
        "b = 2\n",
        "c = 3\n",
        "if a > b and b > c:\n",
        "  print (\" a is the largest number\") # here i use the logical operator for printing the largest number between a,b & c.\n",
        "if a < b or b < c:\n",
        "  print (\" b is the largest mumber\")\n",
        "if not a == b or b == c:               # not is use for printing the equal number\n",
        "  print (\"No one is eqaul to each other\")\n",
        "\n"
      ],
      "metadata": {
        "id": "Fv15AtGx4330",
        "colab": {
          "base_uri": "https://localhost:8080/"
        },
        "outputId": "1c062a87-5452-4880-d689-6e05ea4a717b"
      },
      "execution_count": null,
      "outputs": [
        {
          "output_type": "stream",
          "name": "stdout",
          "text": [
            " b is the largest mumber\n",
            "No one is eqaul to each other\n"
          ]
        }
      ]
    },
    {
      "cell_type": "code",
      "source": [
        "\"\"\"\n",
        "#Q9. Write a Python program to convert user input from string to integer, float,\n",
        "     and boolean types.\n",
        "\"\"\"\n",
        "#converting string to integer type\n",
        "String = input(\"Enter Any string \") #here i put string value in number\n",
        "print (type(String))\n",
        "convert_to_int = int(String)       #converting string to integer\n",
        "print (type(convert_to_int))\n",
        "\n",
        "print ()\n",
        "#converting string to float type\n",
        "String = input(\"Enter Any string \") #here i put string value in number\n",
        "print (type(String))\n",
        "convert_to_float = float(String)       #converting string to float\n",
        "print (type(convert_to_float))\n",
        "\n",
        "print()\n",
        "#converting string to boolean type\n",
        "String = input(\"Enter Any string \") #here i put string value in number\n",
        "print (type(String))\n",
        "convert_to_bool = bool(String)       #converting string to bool\n",
        "print (type(convert_to_bool))"
      ],
      "metadata": {
        "colab": {
          "base_uri": "https://localhost:8080/"
        },
        "id": "-MEAFzWvye_S",
        "outputId": "56112651-7f61-443a-cf79-c103044c6bf2"
      },
      "execution_count": null,
      "outputs": [
        {
          "output_type": "stream",
          "name": "stdout",
          "text": [
            "Enter Any string 5\n",
            "<class 'str'>\n",
            "<class 'int'>\n",
            "\n",
            "Enter Any string 25\n",
            "<class 'str'>\n",
            "<class 'float'>\n",
            "\n",
            "Enter Any string 45\n",
            "<class 'str'>\n",
            "<class 'bool'>\n"
          ]
        }
      ]
    },
    {
      "cell_type": "code",
      "source": [
        "#Q10. Write code to demonstrate type casting with list elements.\n",
        "My_list = [ \"10\",\"20\",\"30\",\"40\",\"50\"]\n",
        "print (\"Before type casting\")\n",
        "print (type(My_list[0]))\n",
        "print (type(My_list[1])) # before typecasting it will show type\n",
        "print(\"After type casting\")\n",
        "My_list[0] = int(My_list[0]) # here i changed list string value to integer\n",
        "My_list[1] = float(My_list[1]) # here i changed list string value to float\n",
        "print (type(My_list[0]))\n",
        "print (type(My_list[1]))"
      ],
      "metadata": {
        "colab": {
          "base_uri": "https://localhost:8080/"
        },
        "id": "c4qJDgT3hann",
        "outputId": "8fe7b734-dddb-4811-ddc6-b3f0e94cb3c9"
      },
      "execution_count": null,
      "outputs": [
        {
          "output_type": "stream",
          "name": "stdout",
          "text": [
            "Before type casting\n",
            "<class 'str'>\n",
            "<class 'str'>\n",
            "After type casting\n",
            "<class 'int'>\n",
            "<class 'float'>\n"
          ]
        }
      ]
    },
    {
      "cell_type": "code",
      "source": [
        "#Q11. Write a program that checks if a number is positive, negative, or zero.\n",
        "Number = float(input(\"Enter Your Number \"))\n",
        "if Number > 0:\n",
        "  print(\"Positive Number \")\n",
        "elif Number == 0:\n",
        "  print(\"zero \")\n",
        "else:\n",
        "  print (\"Negative Number \")"
      ],
      "metadata": {
        "colab": {
          "base_uri": "https://localhost:8080/"
        },
        "id": "_pILa739-f1X",
        "outputId": "eb270c15-1015-4b8f-a3e5-03832916665e"
      },
      "execution_count": null,
      "outputs": [
        {
          "output_type": "stream",
          "name": "stdout",
          "text": [
            "Enter Your Number 25\n",
            "Positive Number \n"
          ]
        }
      ]
    },
    {
      "cell_type": "code",
      "source": [
        "#Q12.  Write a for loop to print numbers from 1 to 10.\n",
        "for x in range (1,11):\n",
        "  print(x)"
      ],
      "metadata": {
        "colab": {
          "base_uri": "https://localhost:8080/"
        },
        "id": "IiG_P9H9IEw9",
        "outputId": "13b2c869-39f7-436e-fb65-421641695a51"
      },
      "execution_count": null,
      "outputs": [
        {
          "output_type": "stream",
          "name": "stdout",
          "text": [
            "1\n",
            "2\n",
            "3\n",
            "4\n",
            "5\n",
            "6\n",
            "7\n",
            "8\n",
            "9\n",
            "10\n"
          ]
        }
      ]
    },
    {
      "cell_type": "code",
      "source": [
        "#Q13. Write a Python program to find the sum of all even numbers between 1 and 50.\n",
        "a = 0\n",
        "for x in range (1,51):\n",
        "  if x % 2 == 0:\n",
        "    a += x\n",
        "print(\"The sum all even numbers between 1 to 50 = \",a)"
      ],
      "metadata": {
        "colab": {
          "base_uri": "https://localhost:8080/"
        },
        "id": "h3rOCCS0IeCO",
        "outputId": "4b75717b-3269-47d3-f6a7-ab65b7836bd5"
      },
      "execution_count": null,
      "outputs": [
        {
          "output_type": "stream",
          "name": "stdout",
          "text": [
            "The sum all even numbers between 1 to 50 =  650\n"
          ]
        }
      ]
    },
    {
      "cell_type": "code",
      "source": [
        "#Q14. Write a program to reverse a string using a while loop.\n",
        "\n",
        "string = \"Python\"\n",
        "print(\"Original string:\", string)\n",
        "rev_string = \"\"\n",
        "counts = len(string)\n",
        "while counts > 0:\n",
        "    rev_string += string[counts - 1]\n",
        "    counts -= 1\n",
        "print(\"Reversed string:\", rev_string)"
      ],
      "metadata": {
        "id": "3QY0r-8NBxA0",
        "colab": {
          "base_uri": "https://localhost:8080/"
        },
        "outputId": "4dad1053-e559-4bcf-b6c8-8f5917b7b09b"
      },
      "execution_count": 1,
      "outputs": [
        {
          "output_type": "stream",
          "name": "stdout",
          "text": [
            "Original string: Python\n",
            "Reversed string: nohtyP\n"
          ]
        }
      ]
    },
    {
      "cell_type": "code",
      "source": [
        "#Q15. Write a Python program to calculate the factorial of a number provided by the user using a while loop.\n",
        "num = int(input(\"Enter a number to calculate its factorial \"));\n",
        "i = 1\n",
        "fact_num = 1\n",
        "while i<=num:\n",
        "  fact_num*=i\n",
        "  i+=1\n",
        "print(fact_num)\n"
      ],
      "metadata": {
        "id": "h7mvNsf0Y3Pb",
        "colab": {
          "base_uri": "https://localhost:8080/"
        },
        "outputId": "0f66ca98-7d4b-4d3e-ac87-15ff7f85f7ce"
      },
      "execution_count": 5,
      "outputs": [
        {
          "output_type": "stream",
          "name": "stdout",
          "text": [
            "Enter a number to calculate its factorial 4\n",
            "24\n"
          ]
        }
      ]
    }
  ]
}